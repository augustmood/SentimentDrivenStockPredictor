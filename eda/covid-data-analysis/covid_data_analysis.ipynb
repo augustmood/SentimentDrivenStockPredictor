{
 "cells": [
  {
   "cell_type": "markdown",
   "metadata": {},
   "source": [
    "# Extract Covid data using API and save it as a csv file after cleanning."
   ]
  },
  {
   "cell_type": "code",
   "execution_count": 2,
   "metadata": {},
   "outputs": [],
   "source": [
    "import requests\n",
    "import json\n",
    "import requests\n",
    "import pandas as pd\n",
    "\n",
    "API_KEY = '+0GTkxg1mbgtx2GOnjVSxg==FMVkYlqa0X0ocvPm'"
   ]
  },
  {
   "cell_type": "code",
   "execution_count": 3,
   "metadata": {},
   "outputs": [],
   "source": [
    "import requests\n",
    "import pandas as pd\n",
    "import json\n",
    "\n",
    "def fetch_covid_data(country):\n",
    "    api_url = 'https://api.api-ninjas.com/v1/covid19?country={}'.format(country)\n",
    "    response = requests.get(api_url, headers={'X-Api-Key': API_KEY})\n",
    "    \n",
    "    if response.status_code == requests.codes.ok:\n",
    "        print(\"Succeeded\")\n",
    "        json_object = response.json()\n",
    "        \n",
    "        all_cases = []\n",
    "        for obj in json_object:\n",
    "            cases = obj['cases']\n",
    "            all_cases.append(cases)\n",
    "\n",
    "        combined_cases = {}\n",
    "        for cases in all_cases:\n",
    "            for date, values in cases.items():\n",
    "                if date in combined_cases:\n",
    "                    combined_cases[date]['total'] += values['total']\n",
    "                    combined_cases[date]['new'] += values['new']\n",
    "                else:\n",
    "                    combined_cases[date] = {'total': values['total'], 'new': values['new']}\n",
    "\n",
    "        df_combined = pd.DataFrame.from_dict(combined_cases, orient='index')\n",
    "        return df_combined\n",
    "    else:\n",
    "        print(\"Error:\", response.status_code, response.text)\n",
    "        return None"
   ]
  },
  {
   "cell_type": "code",
   "execution_count": 4,
   "metadata": {},
   "outputs": [
    {
     "name": "stdout",
     "output_type": "stream",
     "text": [
      "Succeeded\n",
      "            total  new\n",
      "2020-01-22      1    0\n",
      "2020-01-23      1    0\n",
      "2020-01-24      2    1\n",
      "2020-01-25      2    0\n",
      "2020-01-26      5    3\n"
     ]
    }
   ],
   "source": [
    "# Example usage:\n",
    "country_name = 'United States'  # Replace with any country you want to fetch data for\n",
    "US = fetch_covid_data(country_name)\n",
    "if US is not None:\n",
    "    print(US.head())"
   ]
  },
  {
   "cell_type": "code",
   "execution_count": 5,
   "metadata": {},
   "outputs": [
    {
     "name": "stdout",
     "output_type": "stream",
     "text": [
      "Succeeded\n",
      "            total  new\n",
      "2020-01-22      0    0\n",
      "2020-01-23      2    2\n",
      "2020-01-24      3    1\n",
      "2020-01-25      3    0\n",
      "2020-01-26      3    0\n"
     ]
    }
   ],
   "source": [
    "# Example usage:\n",
    "country_name = 'Canada'  # Replace with any country you want to fetch data for\n",
    "CA = fetch_covid_data(country_name)\n",
    "if CA is not None:\n",
    "    print(CA.head())"
   ]
  },
  {
   "cell_type": "code",
   "execution_count": 21,
   "metadata": {},
   "outputs": [
    {
     "name": "stdout",
     "output_type": "stream",
     "text": [
      "Succeeded\n",
      "Succeeded\n",
      "         Date  total  new\n",
      "0  2020-01-22      1    0\n",
      "1  2020-01-23      3    2\n",
      "2  2020-01-24      5    2\n",
      "3  2020-01-25      5    0\n",
      "4  2020-01-26      8    3\n"
     ]
    }
   ],
   "source": [
    "# Fetch COVID-19 data for Canada\n",
    "CA = fetch_covid_data('Canada')\n",
    "\n",
    "# Fetch COVID-19 data for the United States\n",
    "US = fetch_covid_data('United States')\n",
    "\n",
    "# Concatenate the data for Canada and the United States\n",
    "na_covid_data = pd.concat([CA, US], keys=['Canada', 'United States'], names=['Country'])\n",
    "\n",
    "# Merge the data for each date and aggregate the total and new cases\n",
    "na_covid_data_merged = na_covid_data.groupby(level=1).sum()\n",
    "\n",
    "# Reset the index and rename the index column to 'Date'\n",
    "na_covid_data_merged.reset_index(inplace=True)\n",
    "na_covid_data_merged.rename(columns={'index': 'Date'}, inplace=True)\n",
    "\n",
    "# Print the merged DataFrame\n",
    "print(na_covid_data_merged.head())\n",
    "\n",
    "# Export the merged DataFrame to a CSV file\n",
    "na_covid_data_merged.to_csv('na_covid_data_merged.csv')\n"
   ]
  },
  {
   "cell_type": "code",
   "execution_count": 20,
   "metadata": {},
   "outputs": [
    {
     "data": {
      "text/html": [
       "<div>\n",
       "<style scoped>\n",
       "    .dataframe tbody tr th:only-of-type {\n",
       "        vertical-align: middle;\n",
       "    }\n",
       "\n",
       "    .dataframe tbody tr th {\n",
       "        vertical-align: top;\n",
       "    }\n",
       "\n",
       "    .dataframe thead th {\n",
       "        text-align: right;\n",
       "    }\n",
       "</style>\n",
       "<table border=\"1\" class=\"dataframe\">\n",
       "  <thead>\n",
       "    <tr style=\"text-align: right;\">\n",
       "      <th></th>\n",
       "      <th>total</th>\n",
       "      <th>new</th>\n",
       "    </tr>\n",
       "  </thead>\n",
       "  <tbody>\n",
       "    <tr>\n",
       "      <th>2020-01-22</th>\n",
       "      <td>1</td>\n",
       "      <td>0</td>\n",
       "    </tr>\n",
       "    <tr>\n",
       "      <th>2020-01-23</th>\n",
       "      <td>3</td>\n",
       "      <td>2</td>\n",
       "    </tr>\n",
       "    <tr>\n",
       "      <th>2020-01-24</th>\n",
       "      <td>5</td>\n",
       "      <td>2</td>\n",
       "    </tr>\n",
       "    <tr>\n",
       "      <th>2020-01-25</th>\n",
       "      <td>5</td>\n",
       "      <td>0</td>\n",
       "    </tr>\n",
       "    <tr>\n",
       "      <th>2020-01-26</th>\n",
       "      <td>8</td>\n",
       "      <td>3</td>\n",
       "    </tr>\n",
       "    <tr>\n",
       "      <th>...</th>\n",
       "      <td>...</td>\n",
       "      <td>...</td>\n",
       "    </tr>\n",
       "    <tr>\n",
       "      <th>2023-03-05</th>\n",
       "      <td>108256726</td>\n",
       "      <td>-3569</td>\n",
       "    </tr>\n",
       "    <tr>\n",
       "      <th>2023-03-06</th>\n",
       "      <td>108266967</td>\n",
       "      <td>10241</td>\n",
       "    </tr>\n",
       "    <tr>\n",
       "      <th>2023-03-07</th>\n",
       "      <td>108303129</td>\n",
       "      <td>36162</td>\n",
       "    </tr>\n",
       "    <tr>\n",
       "      <th>2023-03-08</th>\n",
       "      <td>108368825</td>\n",
       "      <td>65696</td>\n",
       "    </tr>\n",
       "    <tr>\n",
       "      <th>2023-03-09</th>\n",
       "      <td>108419797</td>\n",
       "      <td>50972</td>\n",
       "    </tr>\n",
       "  </tbody>\n",
       "</table>\n",
       "<p>1143 rows × 2 columns</p>\n",
       "</div>"
      ],
      "text/plain": [
       "                total    new\n",
       "2020-01-22          1      0\n",
       "2020-01-23          3      2\n",
       "2020-01-24          5      2\n",
       "2020-01-25          5      0\n",
       "2020-01-26          8      3\n",
       "...               ...    ...\n",
       "2023-03-05  108256726  -3569\n",
       "2023-03-06  108266967  10241\n",
       "2023-03-07  108303129  36162\n",
       "2023-03-08  108368825  65696\n",
       "2023-03-09  108419797  50972\n",
       "\n",
       "[1143 rows x 2 columns]"
      ]
     },
     "execution_count": 20,
     "metadata": {},
     "output_type": "execute_result"
    }
   ],
   "source": [
    "na_covid_data_merged"
   ]
  },
  {
   "cell_type": "code",
   "execution_count": 24,
   "metadata": {},
   "outputs": [],
   "source": [
    "covid_data = pd.read_csv('./na_covid_data_merged.csv', index_col=0)"
   ]
  },
  {
   "cell_type": "code",
   "execution_count": 25,
   "metadata": {},
   "outputs": [
    {
     "data": {
      "text/html": [
       "<div>\n",
       "<style scoped>\n",
       "    .dataframe tbody tr th:only-of-type {\n",
       "        vertical-align: middle;\n",
       "    }\n",
       "\n",
       "    .dataframe tbody tr th {\n",
       "        vertical-align: top;\n",
       "    }\n",
       "\n",
       "    .dataframe thead th {\n",
       "        text-align: right;\n",
       "    }\n",
       "</style>\n",
       "<table border=\"1\" class=\"dataframe\">\n",
       "  <thead>\n",
       "    <tr style=\"text-align: right;\">\n",
       "      <th></th>\n",
       "      <th>Date</th>\n",
       "      <th>total</th>\n",
       "      <th>new</th>\n",
       "    </tr>\n",
       "  </thead>\n",
       "  <tbody>\n",
       "    <tr>\n",
       "      <th>0</th>\n",
       "      <td>2020-01-22</td>\n",
       "      <td>1</td>\n",
       "      <td>0</td>\n",
       "    </tr>\n",
       "    <tr>\n",
       "      <th>1</th>\n",
       "      <td>2020-01-23</td>\n",
       "      <td>3</td>\n",
       "      <td>2</td>\n",
       "    </tr>\n",
       "    <tr>\n",
       "      <th>2</th>\n",
       "      <td>2020-01-24</td>\n",
       "      <td>5</td>\n",
       "      <td>2</td>\n",
       "    </tr>\n",
       "    <tr>\n",
       "      <th>3</th>\n",
       "      <td>2020-01-25</td>\n",
       "      <td>5</td>\n",
       "      <td>0</td>\n",
       "    </tr>\n",
       "    <tr>\n",
       "      <th>4</th>\n",
       "      <td>2020-01-26</td>\n",
       "      <td>8</td>\n",
       "      <td>3</td>\n",
       "    </tr>\n",
       "    <tr>\n",
       "      <th>...</th>\n",
       "      <td>...</td>\n",
       "      <td>...</td>\n",
       "      <td>...</td>\n",
       "    </tr>\n",
       "    <tr>\n",
       "      <th>1138</th>\n",
       "      <td>2023-03-05</td>\n",
       "      <td>108256726</td>\n",
       "      <td>-3569</td>\n",
       "    </tr>\n",
       "    <tr>\n",
       "      <th>1139</th>\n",
       "      <td>2023-03-06</td>\n",
       "      <td>108266967</td>\n",
       "      <td>10241</td>\n",
       "    </tr>\n",
       "    <tr>\n",
       "      <th>1140</th>\n",
       "      <td>2023-03-07</td>\n",
       "      <td>108303129</td>\n",
       "      <td>36162</td>\n",
       "    </tr>\n",
       "    <tr>\n",
       "      <th>1141</th>\n",
       "      <td>2023-03-08</td>\n",
       "      <td>108368825</td>\n",
       "      <td>65696</td>\n",
       "    </tr>\n",
       "    <tr>\n",
       "      <th>1142</th>\n",
       "      <td>2023-03-09</td>\n",
       "      <td>108419797</td>\n",
       "      <td>50972</td>\n",
       "    </tr>\n",
       "  </tbody>\n",
       "</table>\n",
       "<p>1143 rows × 3 columns</p>\n",
       "</div>"
      ],
      "text/plain": [
       "            Date      total    new\n",
       "0     2020-01-22          1      0\n",
       "1     2020-01-23          3      2\n",
       "2     2020-01-24          5      2\n",
       "3     2020-01-25          5      0\n",
       "4     2020-01-26          8      3\n",
       "...          ...        ...    ...\n",
       "1138  2023-03-05  108256726  -3569\n",
       "1139  2023-03-06  108266967  10241\n",
       "1140  2023-03-07  108303129  36162\n",
       "1141  2023-03-08  108368825  65696\n",
       "1142  2023-03-09  108419797  50972\n",
       "\n",
       "[1143 rows x 3 columns]"
      ]
     },
     "execution_count": 25,
     "metadata": {},
     "output_type": "execute_result"
    }
   ],
   "source": [
    "covid_data"
   ]
  }
 ],
 "metadata": {
  "kernelspec": {
   "display_name": "base",
   "language": "python",
   "name": "python3"
  },
  "language_info": {
   "codemirror_mode": {
    "name": "ipython",
    "version": 3
   },
   "file_extension": ".py",
   "mimetype": "text/x-python",
   "name": "python",
   "nbconvert_exporter": "python",
   "pygments_lexer": "ipython3",
   "version": "3.11.7"
  }
 },
 "nbformat": 4,
 "nbformat_minor": 2
}
