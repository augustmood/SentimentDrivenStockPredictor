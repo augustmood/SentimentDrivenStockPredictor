{
 "cells": [
  {
   "cell_type": "code",
   "execution_count": 1,
   "metadata": {},
   "outputs": [],
   "source": [
    "import os\n",
    "import sys\n",
    "\n",
    "os.environ['PYSPARK_PYTHON'] = sys.executable\n",
    "os.environ['PYSPARK_DRIVER_PYTHON'] = sys.executable"
   ]
  },
  {
   "cell_type": "code",
   "execution_count": 2,
   "metadata": {},
   "outputs": [
    {
     "name": "stdout",
     "output_type": "stream",
     "text": [
      ":: loading settings :: url = jar:file:/Users/binmingli/spark-3.3.3-bin-hadoop3/jars/ivy-2.5.1.jar!/org/apache/ivy/core/settings/ivysettings.xml\n"
     ]
    },
    {
     "name": "stderr",
     "output_type": "stream",
     "text": [
      "Ivy Default Cache set to: /Users/binmingli/.ivy2/cache\n",
      "The jars for the packages stored in: /Users/binmingli/.ivy2/jars\n",
      "com.johnsnowlabs.nlp#spark-nlp_2.12 added as a dependency\n",
      ":: resolving dependencies :: org.apache.spark#spark-submit-parent-4a422740-e1ef-4afd-a4a3-e777b7a21c0b;1.0\n",
      "\tconfs: [default]\n",
      "\tfound com.johnsnowlabs.nlp#spark-nlp_2.12;5.3.2 in central\n",
      "\tfound com.typesafe#config;1.4.2 in central\n",
      "\tfound org.rocksdb#rocksdbjni;6.29.5 in central\n",
      "\tfound com.amazonaws#aws-java-sdk-s3;1.12.500 in central\n",
      "\tfound com.amazonaws#aws-java-sdk-kms;1.12.500 in central\n",
      "\tfound com.amazonaws#aws-java-sdk-core;1.12.500 in central\n",
      "\tfound commons-logging#commons-logging;1.1.3 in central\n",
      "\tfound commons-codec#commons-codec;1.15 in central\n",
      "\tfound org.apache.httpcomponents#httpclient;4.5.13 in central\n",
      "\tfound org.apache.httpcomponents#httpcore;4.4.13 in central\n",
      "\tfound software.amazon.ion#ion-java;1.0.2 in central\n",
      "\tfound joda-time#joda-time;2.8.1 in central\n",
      "\tfound com.amazonaws#jmespath-java;1.12.500 in central\n",
      "\tfound com.github.universal-automata#liblevenshtein;3.0.0 in central\n",
      "\tfound com.google.protobuf#protobuf-java-util;3.0.0-beta-3 in central\n",
      "\tfound com.google.protobuf#protobuf-java;3.0.0-beta-3 in central\n",
      "\tfound com.google.code.gson#gson;2.3 in central\n",
      "\tfound it.unimi.dsi#fastutil;7.0.12 in central\n",
      "\tfound org.projectlombok#lombok;1.16.8 in central\n",
      "\tfound com.google.cloud#google-cloud-storage;2.20.1 in central\n",
      "\tfound com.google.guava#guava;31.1-jre in central\n",
      "\tfound com.google.guava#failureaccess;1.0.1 in central\n",
      "\tfound com.google.guava#listenablefuture;9999.0-empty-to-avoid-conflict-with-guava in central\n",
      "\tfound com.google.errorprone#error_prone_annotations;2.18.0 in central\n",
      "\tfound com.google.j2objc#j2objc-annotations;1.3 in central\n",
      "\tfound com.google.http-client#google-http-client;1.43.0 in central\n",
      "\tfound io.opencensus#opencensus-contrib-http-util;0.31.1 in central\n",
      "\tfound com.google.http-client#google-http-client-jackson2;1.43.0 in central\n",
      "\tfound com.google.http-client#google-http-client-gson;1.43.0 in central\n",
      "\tfound com.google.api-client#google-api-client;2.2.0 in central\n",
      "\tfound com.google.oauth-client#google-oauth-client;1.34.1 in central\n",
      "\tfound com.google.http-client#google-http-client-apache-v2;1.43.0 in central\n",
      "\tfound com.google.apis#google-api-services-storage;v1-rev20220705-2.0.0 in central\n",
      "\tfound com.google.code.gson#gson;2.10.1 in central\n",
      "\tfound com.google.cloud#google-cloud-core;2.12.0 in central\n",
      "\tfound io.grpc#grpc-context;1.53.0 in central\n",
      "\tfound com.google.auto.value#auto-value-annotations;1.10.1 in central\n",
      "\tfound com.google.auto.value#auto-value;1.10.1 in central\n",
      "\tfound javax.annotation#javax.annotation-api;1.3.2 in central\n",
      "\tfound com.google.cloud#google-cloud-core-http;2.12.0 in central\n",
      "\tfound com.google.http-client#google-http-client-appengine;1.43.0 in central\n",
      "\tfound com.google.api#gax-httpjson;0.108.2 in central\n",
      "\tfound com.google.cloud#google-cloud-core-grpc;2.12.0 in central\n",
      "\tfound io.grpc#grpc-alts;1.53.0 in central\n",
      "\tfound io.grpc#grpc-grpclb;1.53.0 in central\n",
      "\tfound org.conscrypt#conscrypt-openjdk-uber;2.5.2 in central\n",
      "\tfound io.grpc#grpc-auth;1.53.0 in central\n",
      "\tfound io.grpc#grpc-protobuf;1.53.0 in central\n",
      "\tfound io.grpc#grpc-protobuf-lite;1.53.0 in central\n",
      "\tfound io.grpc#grpc-core;1.53.0 in central\n",
      "\tfound com.google.api#gax;2.23.2 in central\n",
      "\tfound com.google.api#gax-grpc;2.23.2 in central\n",
      "\tfound com.google.auth#google-auth-library-credentials;1.16.0 in central\n",
      "\tfound com.google.auth#google-auth-library-oauth2-http;1.16.0 in central\n",
      "\tfound com.google.api#api-common;2.6.2 in central\n",
      "\tfound io.opencensus#opencensus-api;0.31.1 in central\n",
      "\tfound com.google.api.grpc#proto-google-iam-v1;1.9.2 in central\n",
      "\tfound com.google.protobuf#protobuf-java;3.21.12 in central\n",
      "\tfound com.google.protobuf#protobuf-java-util;3.21.12 in central\n",
      "\tfound com.google.api.grpc#proto-google-common-protos;2.14.2 in central\n",
      "\tfound org.threeten#threetenbp;1.6.5 in central\n",
      "\tfound com.google.api.grpc#proto-google-cloud-storage-v2;2.20.1-alpha in central\n",
      "\tfound com.google.api.grpc#grpc-google-cloud-storage-v2;2.20.1-alpha in central\n",
      "\tfound com.google.api.grpc#gapic-google-cloud-storage-v2;2.20.1-alpha in central\n",
      "\tfound com.google.code.findbugs#jsr305;3.0.2 in central\n",
      "\tfound io.grpc#grpc-api;1.53.0 in central\n",
      "\tfound io.grpc#grpc-stub;1.53.0 in central\n",
      "\tfound org.checkerframework#checker-qual;3.31.0 in central\n",
      "\tfound io.perfmark#perfmark-api;0.26.0 in central\n",
      "\tfound com.google.android#annotations;4.1.1.4 in central\n",
      "\tfound org.codehaus.mojo#animal-sniffer-annotations;1.22 in central\n",
      "\tfound io.opencensus#opencensus-proto;0.2.0 in central\n",
      "\tfound io.grpc#grpc-services;1.53.0 in central\n",
      "\tfound com.google.re2j#re2j;1.6 in central\n",
      "\tfound io.grpc#grpc-netty-shaded;1.53.0 in central\n",
      "\tfound io.grpc#grpc-googleapis;1.53.0 in central\n",
      "\tfound io.grpc#grpc-xds;1.53.0 in central\n",
      "\tfound com.navigamez#greex;1.0 in central\n",
      "\tfound dk.brics.automaton#automaton;1.11-8 in central\n",
      "\tfound com.johnsnowlabs.nlp#tensorflow-cpu_2.12;0.4.4 in central\n",
      "\tfound com.microsoft.onnxruntime#onnxruntime;1.17.0 in central\n",
      ":: resolution report :: resolve 841ms :: artifacts dl 37ms\n",
      "\t:: modules in use:\n",
      "\tcom.amazonaws#aws-java-sdk-core;1.12.500 from central in [default]\n",
      "\tcom.amazonaws#aws-java-sdk-kms;1.12.500 from central in [default]\n",
      "\tcom.amazonaws#aws-java-sdk-s3;1.12.500 from central in [default]\n",
      "\tcom.amazonaws#jmespath-java;1.12.500 from central in [default]\n",
      "\tcom.github.universal-automata#liblevenshtein;3.0.0 from central in [default]\n",
      "\tcom.google.android#annotations;4.1.1.4 from central in [default]\n",
      "\tcom.google.api#api-common;2.6.2 from central in [default]\n",
      "\tcom.google.api#gax;2.23.2 from central in [default]\n",
      "\tcom.google.api#gax-grpc;2.23.2 from central in [default]\n",
      "\tcom.google.api#gax-httpjson;0.108.2 from central in [default]\n",
      "\tcom.google.api-client#google-api-client;2.2.0 from central in [default]\n",
      "\tcom.google.api.grpc#gapic-google-cloud-storage-v2;2.20.1-alpha from central in [default]\n",
      "\tcom.google.api.grpc#grpc-google-cloud-storage-v2;2.20.1-alpha from central in [default]\n",
      "\tcom.google.api.grpc#proto-google-cloud-storage-v2;2.20.1-alpha from central in [default]\n",
      "\tcom.google.api.grpc#proto-google-common-protos;2.14.2 from central in [default]\n",
      "\tcom.google.api.grpc#proto-google-iam-v1;1.9.2 from central in [default]\n",
      "\tcom.google.apis#google-api-services-storage;v1-rev20220705-2.0.0 from central in [default]\n",
      "\tcom.google.auth#google-auth-library-credentials;1.16.0 from central in [default]\n",
      "\tcom.google.auth#google-auth-library-oauth2-http;1.16.0 from central in [default]\n",
      "\tcom.google.auto.value#auto-value;1.10.1 from central in [default]\n",
      "\tcom.google.auto.value#auto-value-annotations;1.10.1 from central in [default]\n",
      "\tcom.google.cloud#google-cloud-core;2.12.0 from central in [default]\n",
      "\tcom.google.cloud#google-cloud-core-grpc;2.12.0 from central in [default]\n",
      "\tcom.google.cloud#google-cloud-core-http;2.12.0 from central in [default]\n",
      "\tcom.google.cloud#google-cloud-storage;2.20.1 from central in [default]\n",
      "\tcom.google.code.findbugs#jsr305;3.0.2 from central in [default]\n",
      "\tcom.google.code.gson#gson;2.10.1 from central in [default]\n",
      "\tcom.google.errorprone#error_prone_annotations;2.18.0 from central in [default]\n",
      "\tcom.google.guava#failureaccess;1.0.1 from central in [default]\n",
      "\tcom.google.guava#guava;31.1-jre from central in [default]\n",
      "\tcom.google.guava#listenablefuture;9999.0-empty-to-avoid-conflict-with-guava from central in [default]\n",
      "\tcom.google.http-client#google-http-client;1.43.0 from central in [default]\n",
      "\tcom.google.http-client#google-http-client-apache-v2;1.43.0 from central in [default]\n",
      "\tcom.google.http-client#google-http-client-appengine;1.43.0 from central in [default]\n",
      "\tcom.google.http-client#google-http-client-gson;1.43.0 from central in [default]\n",
      "\tcom.google.http-client#google-http-client-jackson2;1.43.0 from central in [default]\n",
      "\tcom.google.j2objc#j2objc-annotations;1.3 from central in [default]\n",
      "\tcom.google.oauth-client#google-oauth-client;1.34.1 from central in [default]\n",
      "\tcom.google.protobuf#protobuf-java;3.21.12 from central in [default]\n",
      "\tcom.google.protobuf#protobuf-java-util;3.21.12 from central in [default]\n",
      "\tcom.google.re2j#re2j;1.6 from central in [default]\n",
      "\tcom.johnsnowlabs.nlp#spark-nlp_2.12;5.3.2 from central in [default]\n",
      "\tcom.johnsnowlabs.nlp#tensorflow-cpu_2.12;0.4.4 from central in [default]\n",
      "\tcom.microsoft.onnxruntime#onnxruntime;1.17.0 from central in [default]\n",
      "\tcom.navigamez#greex;1.0 from central in [default]\n",
      "\tcom.typesafe#config;1.4.2 from central in [default]\n",
      "\tcommons-codec#commons-codec;1.15 from central in [default]\n",
      "\tcommons-logging#commons-logging;1.1.3 from central in [default]\n",
      "\tdk.brics.automaton#automaton;1.11-8 from central in [default]\n",
      "\tio.grpc#grpc-alts;1.53.0 from central in [default]\n",
      "\tio.grpc#grpc-api;1.53.0 from central in [default]\n",
      "\tio.grpc#grpc-auth;1.53.0 from central in [default]\n",
      "\tio.grpc#grpc-context;1.53.0 from central in [default]\n",
      "\tio.grpc#grpc-core;1.53.0 from central in [default]\n",
      "\tio.grpc#grpc-googleapis;1.53.0 from central in [default]\n",
      "\tio.grpc#grpc-grpclb;1.53.0 from central in [default]\n",
      "\tio.grpc#grpc-netty-shaded;1.53.0 from central in [default]\n",
      "\tio.grpc#grpc-protobuf;1.53.0 from central in [default]\n",
      "\tio.grpc#grpc-protobuf-lite;1.53.0 from central in [default]\n",
      "\tio.grpc#grpc-services;1.53.0 from central in [default]\n",
      "\tio.grpc#grpc-stub;1.53.0 from central in [default]\n",
      "\tio.grpc#grpc-xds;1.53.0 from central in [default]\n",
      "\tio.opencensus#opencensus-api;0.31.1 from central in [default]\n",
      "\tio.opencensus#opencensus-contrib-http-util;0.31.1 from central in [default]\n",
      "\tio.opencensus#opencensus-proto;0.2.0 from central in [default]\n",
      "\tio.perfmark#perfmark-api;0.26.0 from central in [default]\n",
      "\tit.unimi.dsi#fastutil;7.0.12 from central in [default]\n",
      "\tjavax.annotation#javax.annotation-api;1.3.2 from central in [default]\n",
      "\tjoda-time#joda-time;2.8.1 from central in [default]\n",
      "\torg.apache.httpcomponents#httpclient;4.5.13 from central in [default]\n",
      "\torg.apache.httpcomponents#httpcore;4.4.13 from central in [default]\n",
      "\torg.checkerframework#checker-qual;3.31.0 from central in [default]\n",
      "\torg.codehaus.mojo#animal-sniffer-annotations;1.22 from central in [default]\n",
      "\torg.conscrypt#conscrypt-openjdk-uber;2.5.2 from central in [default]\n",
      "\torg.projectlombok#lombok;1.16.8 from central in [default]\n",
      "\torg.rocksdb#rocksdbjni;6.29.5 from central in [default]\n",
      "\torg.threeten#threetenbp;1.6.5 from central in [default]\n",
      "\tsoftware.amazon.ion#ion-java;1.0.2 from central in [default]\n",
      "\t:: evicted modules:\n",
      "\tcommons-logging#commons-logging;1.2 by [commons-logging#commons-logging;1.1.3] in [default]\n",
      "\tcommons-codec#commons-codec;1.11 by [commons-codec#commons-codec;1.15] in [default]\n",
      "\tcom.google.protobuf#protobuf-java-util;3.0.0-beta-3 by [com.google.protobuf#protobuf-java-util;3.21.12] in [default]\n",
      "\tcom.google.protobuf#protobuf-java;3.0.0-beta-3 by [com.google.protobuf#protobuf-java;3.21.12] in [default]\n",
      "\tcom.google.code.gson#gson;2.3 by [com.google.code.gson#gson;2.10.1] in [default]\n",
      "\t---------------------------------------------------------------------\n",
      "\t|                  |            modules            ||   artifacts   |\n",
      "\t|       conf       | number| search|dwnlded|evicted|| number|dwnlded|\n",
      "\t---------------------------------------------------------------------\n",
      "\t|      default     |   83  |   0   |   0   |   5   ||   78  |   0   |\n",
      "\t---------------------------------------------------------------------\n",
      ":: retrieving :: org.apache.spark#spark-submit-parent-4a422740-e1ef-4afd-a4a3-e777b7a21c0b\n",
      "\tconfs: [default]\n",
      "\t0 artifacts copied, 78 already retrieved (0kB/18ms)\n"
     ]
    },
    {
     "name": "stdout",
     "output_type": "stream",
     "text": [
      "24/04/03 19:06:21 WARN NativeCodeLoader: Unable to load native-hadoop library for your platform... using builtin-java classes where applicable\n"
     ]
    },
    {
     "name": "stderr",
     "output_type": "stream",
     "text": [
      "Setting default log level to \"WARN\".\n",
      "To adjust logging level use sc.setLogLevel(newLevel). For SparkR, use setLogLevel(newLevel).\n"
     ]
    }
   ],
   "source": [
    "from pyspark.sql import SparkSession\n",
    "import sparknlp\n",
    "from sparknlp.base import DocumentAssembler\n",
    "from sparknlp.annotator import Tokenizer, SentimentDLModel\n",
    "from sparknlp.pretrained import PretrainedPipeline\n",
    "import logging\n",
    "import time\n",
    "\n",
    "from sparknlp.base import *\n",
    "from sparknlp.annotator import *\n",
    "from sparknlp.pretrained import PretrainedPipeline\n",
    "spark = SparkSession.builder \\\n",
    "    .appName(\"Reddit Comment Context Builder\") \\\n",
    "    .config(\"spark.executor.memory\", \"64g\")  \\\n",
    "    .config(\"spark.driver.memory\", \"32g\")  \\\n",
    "    .config(\"spark.executor.memoryOverhead\", \"4096\") \\\n",
    "    .config(\"spark.driver.memoryOverhead\", \"2048\")  \\\n",
    "    .config(\"spark.driver.maxResultSize\", \"8g\") \\\n",
    "    .config(\"spark.driver.extraClassPath\", \"/Volumes/LaCie/wsb_archive/postgresql-42.7.3.jar\") \\\n",
    "    .config(\"spark.driver.extraJavaOptions\", \"-XX:+UseG1GC\") \\\n",
    "    .config(\"spark.executor.extraJavaOptions\", \"-XX:+UseG1GC\") \\\n",
    "    .config(\"spark.kryoserializer.buffer.max\", \"200M\")\\\n",
    "    .config(\"spark.jars.packages\", \"com.johnsnowlabs.nlp:spark-nlp_2.12:5.3.2\")\\\n",
    "    .config(\"spark.sql.shuffle.partitions\", \"200\")\\\n",
    "    .getOrCreate()"
   ]
  },
  {
   "cell_type": "code",
   "execution_count": 3,
   "metadata": {},
   "outputs": [
    {
     "name": "stdout",
     "output_type": "stream",
     "text": [
      "analyze_sentiment download started this may take some time.\n",
      "Approx size to download 4.8 MB\n",
      "[ | ]analyze_sentiment download started this may take some time.\n",
      "Approximate size to download 4.8 MB\n",
      "[ / ]Download done! Loading the resource.\n"
     ]
    },
    {
     "name": "stderr",
     "output_type": "stream",
     "text": [
      "WARNING: An illegal reflective access operation has occurred\n",
      "WARNING: Illegal reflective access by org.apache.spark.util.SizeEstimator$ (file:/Users/binmingli/spark-3.3.3-bin-hadoop3/jars/spark-core_2.12-3.3.3.jar) to field java.util.regex.Pattern.pattern\n",
      "WARNING: Please consider reporting this to the maintainers of org.apache.spark.util.SizeEstimator$\n",
      "WARNING: Use --illegal-access=warn to enable warnings of further illegal reflective access operations\n",
      "WARNING: All illegal access operations will be denied in a future release\n"
     ]
    },
    {
     "name": "stdout",
     "output_type": "stream",
     "text": [
      "[ — ]"
     ]
    },
    {
     "name": "stderr",
     "output_type": "stream",
     "text": [
      "                                                                                \r"
     ]
    },
    {
     "name": "stdout",
     "output_type": "stream",
     "text": [
      "[OK!]\n"
     ]
    }
   ],
   "source": [
    "# # Load a pre-trained sentiment analysis pipeline\n",
    "\n",
    "pipeline = PretrainedPipeline('analyze_sentiment', lang='en')"
   ]
  },
  {
   "cell_type": "code",
   "execution_count": 4,
   "metadata": {},
   "outputs": [],
   "source": [
    "df = spark.read.parquet(\"./stock_comments/AAPL_comments\")"
   ]
  },
  {
   "cell_type": "code",
   "execution_count": 5,
   "metadata": {},
   "outputs": [
    {
     "name": "stdout",
     "output_type": "stream",
     "text": [
      "+-------------------+-------------+--------------------+\n",
      "|       datetime_utc|comment_score|        comment_body|\n",
      "+-------------------+-------------+--------------------+\n",
      "|2012-04-11 09:46:43|            2|This is a fantast...|\n",
      "|2012-04-11 10:12:16|            1|           [deleted]|\n",
      "|2012-04-11 10:39:08|            2|     INTC is on 4/17|\n",
      "|2012-04-11 11:02:31|            1|straddle, call, s...|\n",
      "|2012-04-11 11:47:11|            6|GMCR falls, GOOG ...|\n",
      "|2012-04-11 12:44:33|            1|CROX 4/26\\n\\nBZH ...|\n",
      "|2012-04-11 13:02:56|            1|Shorting GOOG and...|\n",
      "|2012-04-11 13:16:44|            2|I'm looking at CJ...|\n",
      "|2012-04-11 13:48:27|            2|GRPN earnings rep...|\n",
      "|2012-04-11 13:54:48|            1|           [deleted]|\n",
      "|2012-04-11 13:59:34|            2|I'm long CJES. Se...|\n",
      "|2012-04-11 14:01:27|            1|Shorting FB for t...|\n",
      "|2012-04-11 14:02:43|            1|BAC 4/19 betting ...|\n",
      "|2012-04-11 14:19:43|            1|Shorting AAPL ahe...|\n",
      "|2012-04-11 14:55:43|            2|I believe that no...|\n",
      "|2012-04-11 15:29:44|            1|could you elabora...|\n",
      "|2012-04-11 17:01:19|            1|           me too :)|\n",
      "|2012-04-11 17:10:37|            1|Yes, and especial...|\n",
      "|2012-04-11 20:39:07|            1|How can I learn a...|\n",
      "|2012-04-12 06:40:24|            1|           [deleted]|\n",
      "+-------------------+-------------+--------------------+\n",
      "only showing top 20 rows\n",
      "\n"
     ]
    }
   ],
   "source": [
    "df.show()"
   ]
  },
  {
   "cell_type": "code",
   "execution_count": 6,
   "metadata": {},
   "outputs": [
    {
     "name": "stdout",
     "output_type": "stream",
     "text": [
      "+------------------------------------------------------------------------------------------------------------------------------------------------------------------------------------------------------------------------------------------------------------------------------+--------------------------------------------------------------------------------+\n",
      "|text                                                                                                                                                                                                                                                                          |result                                                                          |\n",
      "+------------------------------------------------------------------------------------------------------------------------------------------------------------------------------------------------------------------------------------------------------------------------------+--------------------------------------------------------------------------------+\n",
      "|This is a fantastic idea! I'll toss mine up in a bit. \\n\\nJPM and wells fargo this friday BMO, possibly facing [terrible earnings](http://www.bloomberg.com/news/2012-04-11/profit-drop-at-u-s-banks-imperils-rally.html)                                                     |[positive, positive, negative]                                                  |\n",
      "|[deleted]                                                                                                                                                                                                                                                                     |[na]                                                                            |\n",
      "|INTC is on 4/17                                                                                                                                                                                                                                                               |[positive]                                                                      |\n",
      "|straddle, call, straddle, put, put, put, straddle, call, straddle, call\\n\\nif i had to pick one for each. google i am more bullish but i like straddles on tech.                                                                                                              |[negative, positive]                                                            |\n",
      "|GMCR falls, GOOG falls *slightly*, GRPN will go into a death spiral and I will bring popcorn to watch the financial circlejerk.\\n\\nLVS will probably continue to rise and probably hits 70 at its peak.                                                                       |[positive, negative]                                                            |\n",
      "|CROX 4/26\\n\\nBZH 5/1\\n\\ni'm expecting both to beat estimates                                                                                                                                                                                                                  |[positive]                                                                      |\n",
      "|Shorting GOOG and JPM...... &lt;crosses fingers&gt;                                                                                                                                                                                                                           |[negative, negative, negative, negative, negative, negative, negative, negative]|\n",
      "|I'm looking at CJES, PACD, and SATC.                                                                                                                                                                                                                                          |[negative]                                                                      |\n",
      "|GRPN earnings report synced with Facebook IPO? Fucking glorious... These tech companies can get what's coming sooner rather than later.                                                                                                                                       |[negative, negative, negative]                                                  |\n",
      "|[deleted]                                                                                                                                                                                                                                                                     |[na]                                                                            |\n",
      "|I'm long CJES. Seems like the earnings report is going to be timed quite nicely with stock movements too.                                                                                                                                                                     |[positive, positive]                                                            |\n",
      "|Shorting FB for teh lulz? Money faucet.                                                                                                                                                                                                                                       |[negative, negative]                                                            |\n",
      "|BAC 4/19 betting on a beat                                                                                                                                                                                                                                                    |[negative]                                                                      |\n",
      "|Shorting AAPL ahead of earnings.  My guess is that Apple barely beats estimates, disappointing the market which is expecting a blowout, which (hopefully) will result in a short-term pullback.                                                                               |[negative, positive, positive]                                                  |\n",
      "|I believe that no edge lies in trading earnings directionally, unless you've got a volatility edge in the options market.\\n\\nSo...\\n\\nDouble calendars on GOOG\\n\\nStrangle sales on JPM and any other financial\\n\\nBull  Put Spreads on PCLN\\n\\nProbably buy straddles on LNKD|[positive, positive, negative]                                                  |\n",
      "|could you elaborate on that?                                                                                                                                                                                                                                                  |[negative]                                                                      |\n",
      "|me too :)                                                                                                                                                                                                                                                                     |[negative]                                                                      |\n",
      "|Yes, and especially with the positive outcomes from their recent dealings with investors. They seem to have all their affairs lined up and appear ready to announce some good numbers.                                                                                        |[negative, negative]                                                            |\n",
      "|How can I learn all of this stuff?                                                                                                                                                                                                                                            |[negative]                                                                      |\n",
      "|[deleted]                                                                                                                                                                                                                                                                     |[na]                                                                            |\n",
      "+------------------------------------------------------------------------------------------------------------------------------------------------------------------------------------------------------------------------------------------------------------------------------+--------------------------------------------------------------------------------+\n",
      "only showing top 20 rows\n",
      "\n"
     ]
    }
   ],
   "source": [
    "from pyspark.sql.functions import col\n",
    "\n",
    "# Apply the sentiment analysis pipeline to the comment_body column\n",
    "df_renamed = df.withColumnRenamed(\"comment_body\", \"text\")\n",
    "result = pipeline.transform(df_renamed)\n",
    "\n",
    "# Show some columns including sentiment result\n",
    "result.select(\"text\", \"sentiment.result\").show(truncate=False)\n",
    "AAPL_sentiment = result.select(\n",
    "    col(\"datetime_utc\"),\n",
    "    col(\"comment_score\"),\n",
    "    col(\"text\").alias(\"comment_body\"),\n",
    "    col(\"sentiment.result\").alias(\"comment_sentiment\")\n",
    ")\n"
   ]
  },
  {
   "cell_type": "code",
   "execution_count": 7,
   "metadata": {},
   "outputs": [
    {
     "name": "stdout",
     "output_type": "stream",
     "text": [
      "+-------------------+-------------+--------------------+--------------------+\n",
      "|       datetime_utc|comment_score|        comment_body|   comment_sentiment|\n",
      "+-------------------+-------------+--------------------+--------------------+\n",
      "|2012-04-11 09:46:43|            2|This is a fantast...|[positive, positi...|\n",
      "|2012-04-11 10:12:16|            1|           [deleted]|                [na]|\n",
      "|2012-04-11 10:39:08|            2|     INTC is on 4/17|          [positive]|\n",
      "|2012-04-11 11:02:31|            1|straddle, call, s...|[negative, positive]|\n",
      "|2012-04-11 11:47:11|            6|GMCR falls, GOOG ...|[positive, negative]|\n",
      "|2012-04-11 12:44:33|            1|CROX 4/26\\n\\nBZH ...|          [positive]|\n",
      "|2012-04-11 13:02:56|            1|Shorting GOOG and...|[negative, negati...|\n",
      "|2012-04-11 13:16:44|            2|I'm looking at CJ...|          [negative]|\n",
      "|2012-04-11 13:48:27|            2|GRPN earnings rep...|[negative, negati...|\n",
      "|2012-04-11 13:54:48|            1|           [deleted]|                [na]|\n",
      "|2012-04-11 13:59:34|            2|I'm long CJES. Se...|[positive, positive]|\n",
      "|2012-04-11 14:01:27|            1|Shorting FB for t...|[negative, negative]|\n",
      "|2012-04-11 14:02:43|            1|BAC 4/19 betting ...|          [negative]|\n",
      "|2012-04-11 14:19:43|            1|Shorting AAPL ahe...|[negative, positi...|\n",
      "|2012-04-11 14:55:43|            2|I believe that no...|[positive, positi...|\n",
      "|2012-04-11 15:29:44|            1|could you elabora...|          [negative]|\n",
      "|2012-04-11 17:01:19|            1|           me too :)|          [negative]|\n",
      "|2012-04-11 17:10:37|            1|Yes, and especial...|[negative, negative]|\n",
      "|2012-04-11 20:39:07|            1|How can I learn a...|          [negative]|\n",
      "|2012-04-12 06:40:24|            1|           [deleted]|                [na]|\n",
      "+-------------------+-------------+--------------------+--------------------+\n",
      "only showing top 20 rows\n",
      "\n"
     ]
    }
   ],
   "source": [
    "AAPL_sentiment.show()"
   ]
  },
  {
   "cell_type": "markdown",
   "metadata": {},
   "source": [
    "### The below code should work, but somehow it does not work."
   ]
  },
  {
   "cell_type": "raw",
   "metadata": {},
   "source": [
    "from pyspark.sql.functions import udf, col\n",
    "from pyspark.sql.types import DoubleType\n",
    "import pyspark.sql.functions as F\n",
    "\n",
    "# Correct the UDF definition\n",
    "def avg_sentiment(scores):\n",
    "    # Calculate the average score\n",
    "    positive = scores.count('positive')\n",
    "    negative = scores.count('negative')\n",
    "    total = positive + negative\n",
    "    if total > 0:\n",
    "        return (positive - negative) / total\n",
    "    else:\n",
    "        return None\n",
    "\n",
    "# Register the UDF\n",
    "avg_sentiment_udf = udf(avg_sentiment)\n",
    "\n",
    "# Filter out rows where 'comment_sentiment' contains only '[na]' and apply the UDF\n",
    "scored_result = AAPL_sentiment.filter(~F.array_contains(col(\"comment_sentiment\"), \"na\"))\\\n",
    "                              .withColumn(\"avg_comment_sentiment\", avg_sentiment_udf(F.col(\"comment_sentiment\")))\n",
    "\n",
    "scored_result.show()"
   ]
  },
  {
   "cell_type": "code",
   "execution_count": 8,
   "metadata": {},
   "outputs": [],
   "source": [
    "AAPL_sentiment = AAPL_sentiment.cache()"
   ]
  },
  {
   "cell_type": "code",
   "execution_count": 9,
   "metadata": {},
   "outputs": [
    {
     "name": "stderr",
     "output_type": "stream",
     "text": [
      "[Stage 22:====================================================>   (15 + 1) / 16]\r"
     ]
    },
    {
     "name": "stdout",
     "output_type": "stream",
     "text": [
      "+-------------------+-------------+--------------------+------------------+\n",
      "|       datetime_utc|comment_score|        comment_body|   sentiment_score|\n",
      "+-------------------+-------------+--------------------+------------------+\n",
      "|2012-04-11 09:46:43|            2|This is a fantast...|0.3333333333333333|\n",
      "|2012-04-11 10:12:16|            1|           [deleted]|               0.0|\n",
      "|2012-04-11 10:39:08|            2|     INTC is on 4/17|               1.0|\n",
      "|2012-04-11 11:02:31|            1|straddle, call, s...|               0.0|\n",
      "|2012-04-11 11:47:11|            6|GMCR falls, GOOG ...|               0.0|\n",
      "|2012-04-11 12:44:33|            1|CROX 4/26\\n\\nBZH ...|               1.0|\n",
      "|2012-04-11 13:02:56|            1|Shorting GOOG and...|              -1.0|\n",
      "|2012-04-11 13:16:44|            2|I'm looking at CJ...|              -1.0|\n",
      "|2012-04-11 13:48:27|            2|GRPN earnings rep...|              -1.0|\n",
      "|2012-04-11 13:54:48|            1|           [deleted]|               0.0|\n",
      "|2012-04-11 13:59:34|            2|I'm long CJES. Se...|               1.0|\n",
      "|2012-04-11 14:01:27|            1|Shorting FB for t...|              -1.0|\n",
      "|2012-04-11 14:02:43|            1|BAC 4/19 betting ...|              -1.0|\n",
      "|2012-04-11 14:19:43|            1|Shorting AAPL ahe...|0.3333333333333333|\n",
      "|2012-04-11 14:55:43|            2|I believe that no...|0.3333333333333333|\n",
      "|2012-04-11 15:29:44|            1|could you elabora...|              -1.0|\n",
      "|2012-04-11 17:01:19|            1|           me too :)|              -1.0|\n",
      "|2012-04-11 17:10:37|            1|Yes, and especial...|              -1.0|\n",
      "|2012-04-11 20:39:07|            1|How can I learn a...|              -1.0|\n",
      "|2012-04-12 06:40:24|            1|           [deleted]|               0.0|\n",
      "+-------------------+-------------+--------------------+------------------+\n",
      "only showing top 20 rows\n",
      "\n"
     ]
    },
    {
     "name": "stderr",
     "output_type": "stream",
     "text": [
      "                                                                                \r"
     ]
    }
   ],
   "source": [
    "from pyspark.sql.functions import col, size, when, arrays_zip, explode, avg\n",
    "\n",
    "# 'AAPL_sentiment' is the DataFrame and 'comment_sentiment' contains an array of sentiment strings\n",
    "\n",
    "# Filter out rows where 'comment_sentiment' contains only 'na'\n",
    "filtered_df = AAPL_sentiment.filter(size(col(\"comment_sentiment\")) > 0)\n",
    "\n",
    "# Explode the sentiment array to work with individual sentiments\n",
    "exploded_df = filtered_df.withColumn(\"individual_sentiment\", explode(col(\"comment_sentiment\")))\n",
    "\n",
    "# Assign scores to sentiments: +1 for 'positive', -1 for 'negative', and 0 for 'na'\n",
    "scored_df = exploded_df.withColumn(\"sentiment_score\",\n",
    "                                   when(col(\"individual_sentiment\") == \"positive\", 1)\n",
    "                                   .when(col(\"individual_sentiment\") == \"negative\", -1)\n",
    "                                   .otherwise(0))\n",
    "\n",
    "# Group by original DataFrame identifiers (if necessary) and calculate average sentiment score\n",
    "# 'datetime_utc' and 'comment_score' serve as a unique identifier for rows in 'AAPL_sentiment'\n",
    "AAPL_sentiment = scored_df.groupBy(\"datetime_utc\", \"comment_score\", \"comment_body\").agg(avg(\"sentiment_score\").alias(\"sentiment_score\"))\n",
    "\n",
    "AAPL_sentiment = AAPL_sentiment.orderBy(\"datetime_utc\")\n",
    "AAPL_sentiment.show()"
   ]
  },
  {
   "cell_type": "code",
   "execution_count": 10,
   "metadata": {},
   "outputs": [
    {
     "name": "stderr",
     "output_type": "stream",
     "text": [
      "                                                                                \r"
     ]
    }
   ],
   "source": [
    "AAPL_sentiment.write.parquet(\"./stock_sentiments/AAPL_sentiment\")"
   ]
  }
 ],
 "metadata": {
  "kernelspec": {
   "display_name": "base",
   "language": "python",
   "name": "python3"
  },
  "language_info": {
   "codemirror_mode": {
    "name": "ipython",
    "version": 3
   },
   "file_extension": ".py",
   "mimetype": "text/x-python",
   "name": "python",
   "nbconvert_exporter": "python",
   "pygments_lexer": "ipython3",
   "version": "3.11.7"
  }
 },
 "nbformat": 4,
 "nbformat_minor": 2
}
